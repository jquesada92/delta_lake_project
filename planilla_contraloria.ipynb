{
 "cells": [
  {
   "cell_type": "code",
   "execution_count": 13,
   "id": "cdc7f1ce-ca13-4491-b1e5-093181a73169",
   "metadata": {},
   "outputs": [
    {
     "name": "stdout",
     "output_type": "stream",
     "text": [
      "Ingestion Process\n",
      "Checking for updates\n"
     ]
    },
    {
     "ename": "AttributeError",
     "evalue": "'NoneType' object has no attribute 'group'",
     "output_type": "error",
     "traceback": [
      "\u001b[0;31m---------------------------------------------------------------------------\u001b[0m",
      "\u001b[0;31mAttributeError\u001b[0m                            Traceback (most recent call last)",
      "File \u001b[0;32m~/deltalake/file_ingestion.py:135\u001b[0m\n\u001b[1;32m    126\u001b[0m     \u001b[38;5;28;01mif\u001b[39;00m \u001b[38;5;28mlen\u001b[39m(errors)\u001b[38;5;241m>\u001b[39m\u001b[38;5;241m0\u001b[39m:\n\u001b[1;32m    127\u001b[0m         _run(errors,RUN_MODE)\n\u001b[0;32m--> 135\u001b[0m \u001b[43mexecute_ingestion\u001b[49m\u001b[43m(\u001b[49m\u001b[43m)\u001b[49m\n",
      "File \u001b[0;32m~/deltalake/file_ingestion.py:34\u001b[0m, in \u001b[0;36mvalidate_last_update_date.<locals>.wrapper\u001b[0;34m(*args, **kwgars)\u001b[0m\n\u001b[1;32m     30\u001b[0m     \u001b[38;5;28;01mreturn\u001b[39;00m extract_date\u001b[38;5;241m.\u001b[39mgroup(\u001b[38;5;241m1\u001b[39m)\n\u001b[1;32m     33\u001b[0m file \u001b[38;5;241m=\u001b[39m \u001b[38;5;124m'\u001b[39m\u001b[38;5;124mlast_updated_date.txt\u001b[39m\u001b[38;5;124m'\u001b[39m\n\u001b[0;32m---> 34\u001b[0m webpage_date \u001b[38;5;241m=\u001b[39m dt\u001b[38;5;241m.\u001b[39mstrptime(\u001b[43mread_update_date_from_url\u001b[49m\u001b[43m(\u001b[49m\u001b[43m)\u001b[49m ,\u001b[38;5;124m'\u001b[39m\u001b[38;5;132;01m%d\u001b[39;00m\u001b[38;5;124m/\u001b[39m\u001b[38;5;124m%\u001b[39m\u001b[38;5;124mm/\u001b[39m\u001b[38;5;124m%\u001b[39m\u001b[38;5;124mY \u001b[39m\u001b[38;5;124m%\u001b[39m\u001b[38;5;124mH:\u001b[39m\u001b[38;5;124m%\u001b[39m\u001b[38;5;124mM:\u001b[39m\u001b[38;5;124m%\u001b[39m\u001b[38;5;124mS \u001b[39m\u001b[38;5;124m%\u001b[39m\u001b[38;5;124mp\u001b[39m\u001b[38;5;124m'\u001b[39m)\n\u001b[1;32m     35\u001b[0m \u001b[38;5;28;01mtry\u001b[39;00m: \n\u001b[1;32m     36\u001b[0m     \u001b[38;5;28;01mwith\u001b[39;00m \u001b[38;5;28mopen\u001b[39m(file,\u001b[38;5;124m'\u001b[39m\u001b[38;5;124mr+\u001b[39m\u001b[38;5;124m'\u001b[39m) \u001b[38;5;28;01mas\u001b[39;00m f:\n",
      "File \u001b[0;32m~/deltalake/file_ingestion.py:30\u001b[0m, in \u001b[0;36mvalidate_last_update_date.<locals>.wrapper.<locals>.read_update_date_from_url\u001b[0;34m()\u001b[0m\n\u001b[1;32m     28\u001b[0m response \u001b[38;5;241m=\u001b[39m get(\u001b[38;5;124m'\u001b[39m\u001b[38;5;124mhttps://www.contraloria.gob.pa/CGR.PLANILLAGOB.UI/Formas/Index\u001b[39m\u001b[38;5;124m'\u001b[39m,verify\u001b[38;5;241m=\u001b[39m\u001b[38;5;28;01mFalse\u001b[39;00m)\u001b[38;5;241m.\u001b[39mtext\n\u001b[1;32m     29\u001b[0m extract_date \u001b[38;5;241m=\u001b[39m search(text, response)\n\u001b[0;32m---> 30\u001b[0m \u001b[38;5;28;01mreturn\u001b[39;00m \u001b[43mextract_date\u001b[49m\u001b[38;5;241;43m.\u001b[39;49m\u001b[43mgroup\u001b[49m(\u001b[38;5;241m1\u001b[39m)\n",
      "\u001b[0;31mAttributeError\u001b[0m: 'NoneType' object has no attribute 'group'"
     ]
    }
   ],
   "source": [
    "%run file_ingestion.py"
   ]
  },
  {
   "cell_type": "code",
   "execution_count": 2,
   "id": "ddc27ae7-4f3a-405b-a054-4aa34e0a737c",
   "metadata": {},
   "outputs": [
    {
     "data": {
      "text/plain": [
       "DataFrame[key: string, value: string]"
      ]
     },
     "execution_count": 2,
     "metadata": {},
     "output_type": "execute_result"
    }
   ],
   "source": [
    "import os\n",
    "from datetime import datetime as dt\n",
    "\n",
    "\n",
    "\n",
    "import pyspark.sql.functions as F\n",
    "\n",
    "from delta import *\n",
    "from pyspark.sql import Window\n",
    "from pyspark.sql.types import *\n",
    "\n",
    "schema = 'planilla_publicas_panama'\n",
    "contraloria_source_folder = 'contraloria/planillas/raw_data/'\n",
    "folder = 'planilla_publicas_panama.db'\n",
    "bronze_table = f'{schema}.bronze'\n",
    "bronze_location = f'{folder}/bronze'\n",
    "silver_location =  f'{folder}/silver'\n",
    "silver_table = f'{schema}.silver'\n",
    "agg_by_institucion = f'{folder}/agg_by_institucion'\n",
    "agg_by_id = f'{folder}/summary_by_id'\n",
    "\n",
    "spark.sql(\"set spark.sql.streaming.schemaInference=true\")\n",
    "spark.sql(\"set SQLConf.ADAPTIVE_EXECUTION_ENABLED.key= true\")\n",
    "spark.conf.set(\"spark.sql.debug.maxToStringFields\", 1000)\n",
    "spark.sql(\n",
    "    \"set spark.databricks.delta.changeDataFeed.timestampOutOfRange.enabled = true;\"\n",
    ")"
   ]
  },
  {
   "cell_type": "code",
   "execution_count": 3,
   "id": "4e7d259d-f92f-43d8-b9aa-e776cf11c4bb",
   "metadata": {},
   "outputs": [
    {
     "name": "stderr",
     "output_type": "stream",
     "text": [
      "24/04/14 19:52:23 WARN HiveConf: HiveConf of name hive.stats.jdbc.timeout does not exist\n",
      "24/04/14 19:52:23 WARN HiveConf: HiveConf of name hive.stats.retries.wait does not exist\n",
      "24/04/14 19:52:24 WARN ObjectStore: Version information not found in metastore. hive.metastore.schema.verification is not enabled so recording the schema version 2.3.0\n",
      "24/04/14 19:52:24 WARN ObjectStore: setMetaStoreSchemaVersion called but recording version is disabled: version = 2.3.0, comment = Set by MetaStore hadoop@127.0.1.1\n"
     ]
    },
    {
     "data": {
      "text/plain": [
       "DataFrame[]"
      ]
     },
     "execution_count": 3,
     "metadata": {},
     "output_type": "execute_result"
    }
   ],
   "source": [
    "spark.sql(f\"CREATE SCHEMA IF NOT EXISTS {schema} \")\n",
    "spark.sql(f\"\"\"\n",
    "  CREATE EXTERNAL TABLE IF NOT EXISTS {bronze_table} \n",
    "  (nombre string,\n",
    "  apellido string,\n",
    "  cedula string,\n",
    "  cargo string,\n",
    "  salario double,\n",
    "  gasto double,\n",
    "  estado string,\n",
    "  fecha_de_inicio Timestamp,\n",
    "  fecha_actualizacion Timestamp,\n",
    "  fecha_consulta timestamp,\n",
    "  nombre_reporte string,\n",
    "  institucion string \n",
    "  \n",
    "  ) USING delta\n",
    "  LOCATION '{bronze_location}'\n",
    "  TBLPROPERTIES (delta.enableChangeDataFeed = true)\n",
    "\"\"\")\n",
    "\n",
    "spark.sql(f\"\"\"\n",
    "  CREATE EXTERNAL TABLE IF NOT EXISTS {silver_table} \n",
    "  (nombre string,\n",
    "  apellido string,\n",
    "  cedula string,\n",
    "  cargo string,\n",
    "  salario double,\n",
    "  gasto double,\n",
    "  estado string,\n",
    "  fecha_de_inicio Timestamp,\n",
    "  fecha_actualizacion Timestamp,\n",
    "  fecha_consulta timestamp,\n",
    "  nombre_reporte string,\n",
    "  institucion string \n",
    "  \n",
    "  ) USING delta\n",
    "  LOCATION '{silver_location}'\n",
    "  TBLPROPERTIES (delta.enableChangeDataFeed = true)\n",
    "\"\"\")"
   ]
  },
  {
   "cell_type": "code",
   "execution_count": 4,
   "id": "5568f67a-d84a-4b21-b9fa-9713dda078f3",
   "metadata": {},
   "outputs": [
    {
     "data": {
      "text/html": [
       "<div>\n",
       "<style scoped>\n",
       "    .dataframe tbody tr th:only-of-type {\n",
       "        vertical-align: middle;\n",
       "    }\n",
       "\n",
       "    .dataframe tbody tr th {\n",
       "        vertical-align: top;\n",
       "    }\n",
       "\n",
       "    .dataframe thead th {\n",
       "        text-align: right;\n",
       "    }\n",
       "</style>\n",
       "<table border=\"1\" class=\"dataframe\">\n",
       "  <thead>\n",
       "    <tr style=\"text-align: right;\">\n",
       "      <th></th>\n",
       "      <th>namespace</th>\n",
       "    </tr>\n",
       "  </thead>\n",
       "  <tbody>\n",
       "    <tr>\n",
       "      <th>0</th>\n",
       "      <td>default</td>\n",
       "    </tr>\n",
       "    <tr>\n",
       "      <th>1</th>\n",
       "      <td>planilla_publicas_panama</td>\n",
       "    </tr>\n",
       "  </tbody>\n",
       "</table>\n",
       "</div>"
      ],
      "text/plain": [
       "                  namespace\n",
       "0                   default\n",
       "1  planilla_publicas_panama"
      ]
     },
     "execution_count": 4,
     "metadata": {},
     "output_type": "execute_result"
    }
   ],
   "source": [
    "spark.sql(\"\"\" show databases; \"\"\").toPandas()"
   ]
  },
  {
   "cell_type": "code",
   "execution_count": 5,
   "id": "3cdedb2b-3a13-4b47-b082-faef6a2a9621",
   "metadata": {},
   "outputs": [
    {
     "name": "stderr",
     "output_type": "stream",
     "text": [
      "24/04/14 19:52:25 WARN ObjectStore: Failed to get database global_temp, returning NoSuchObjectException\n",
      "24/04/14 19:52:27 WARN ResolveWriteToStream: spark.sql.adaptive.enabled is not supported in streaming DataFrames/Datasets and will be disabled.\n"
     ]
    }
   ],
   "source": [
    "\n",
    "def load_raw_into_bronze():\n",
    "\n",
    "    raw_data_sdf = spark.readStream.schema(\n",
    "        StructType(\n",
    "            [\n",
    "                StructField(\"Nombre\", StringType(), True),\n",
    "                StructField(\"Apellido\", StringType(), True),\n",
    "                StructField(\"Cédula\", StringType(), True),\n",
    "                StructField(\"Cargo\", StringType(), True),\n",
    "                StructField(\"Salario\", DoubleType(), True),\n",
    "                StructField(\"Gasto\", DoubleType(), True),\n",
    "                StructField(\"Estado\", StringType(), True),\n",
    "                StructField(\"Fecha de inicio\", StringType(), True),\n",
    "                StructField(\"Fecha Actualizacion\", StringType(), True),\n",
    "                StructField(\"Fecha Consulta\", StringType(), True),\n",
    "                StructField(\"Institucion\", StringType(), True),\n",
    "            ]\n",
    "        )\n",
    "    ).parquet(f\"{contraloria_source_folder}\")\n",
    "\n",
    "    columns = raw_data_sdf.columns\n",
    "\n",
    "    # Load Raw Data into Bronze\n",
    "\n",
    "    (\n",
    "        raw_data_sdf.select(\n",
    "            list(map(lambda x: F.col(x).alias(x.lower().replace(\" \", \"_\")), columns))\n",
    "        )\n",
    "        .withColumnRenamed(\"cédula\", \"cedula\")\n",
    "        .withColumn(\"fecha_de_inicio\", F.col(\"fecha_de_inicio\").cast(TimestampType()))\n",
    "        .withColumn(\n",
    "            \"fecha_actualizacion\", F.col(\"fecha_actualizacion\").cast(TimestampType())\n",
    "        )\n",
    "        .withColumn(\"fecha_consulta\", F.col(\"fecha_consulta\").cast(TimestampType()))\n",
    "        .withColumn(\"nombre_reporte\", F.input_file_name())\n",
    "        .writeStream.format(\"delta\")\n",
    "        .outputMode(\"append\")\n",
    "        .option(\"checkpointLocation\", \"contraloria/planillas/_checkpoint/bronze_planillas\")\n",
    "        .trigger(availableNow=True)\n",
    "        .toTable(bronze_table)\n",
    "    ).awaitTermination()\n",
    "\n",
    "\n",
    "load_raw_into_bronze()"
   ]
  },
  {
   "cell_type": "code",
   "execution_count": 6,
   "id": "c926f4e2-3f63-477d-b050-33401fdb4a9f",
   "metadata": {},
   "outputs": [
    {
     "name": "stderr",
     "output_type": "stream",
     "text": [
      "                                                                                \r"
     ]
    },
    {
     "data": {
      "text/plain": [
       "1420329"
      ]
     },
     "execution_count": 6,
     "metadata": {},
     "output_type": "execute_result"
    }
   ],
   "source": [
    "DeltaTable.forName(spark,bronze_table).toDF().count()"
   ]
  },
  {
   "cell_type": "code",
   "execution_count": 7,
   "id": "3ae0e3fb-1dc2-49e9-a3ca-7b299f8a8c58",
   "metadata": {},
   "outputs": [],
   "source": [
    "def create_or_update_silver():\n",
    "\n",
    "    key_columns = [\n",
    "        \"nombre\",\n",
    "        \"apellido\",\n",
    "        \"cedula\",\n",
    "        \"salario\",\n",
    "        \"gasto\",\n",
    "        \"estado\",\n",
    "        \"fecha_de_inicio\",\n",
    "        \"institucion\",\n",
    "        \"cargo\",\n",
    "    ]\n",
    "\n",
    "    def deduplicate_bronze(bronze_table, key_columns=key_columns):\n",
    "        window = Window.partitionBy(F.col(\"institucion\"))\n",
    "        return (\n",
    "            bronze_table.withColumn(\n",
    "                \"actualizado\", F.max(F.col(\"fecha_actualizacion\")).over(window)\n",
    "            )\n",
    "            .where(\"fecha_actualizacion == actualizado\")\n",
    "            .drop(\"actualizado\")\n",
    "            .orderBy(F.col(\"fecha_consulta\"), ascending=False)\n",
    "            .dropDuplicates(subset=key_columns)\n",
    "        )\n",
    "\n",
    "\n",
    "\n",
    "    sink_table = DeltaTable.forName(spark, silver_table)\n",
    "    last_update = (\n",
    "        sink_table.history().select(F.max(F.col(\"timestamp\"))).collect()[0][0]\n",
    "    )\n",
    "\n",
    "    source_sdf = deduplicate_bronze(\n",
    "        spark.read.format(\"delta\")\n",
    "        .option(\"readChangeFeed\", \"true\")\n",
    "        .option(\"startingTimestamp\", str(last_update))\n",
    "        .table(bronze_table)\n",
    "    )\n",
    "\n",
    "    (\n",
    "        sink_table.alias(\"target\")\n",
    "        .merge(\n",
    "            source_sdf.alias(\"source\"),\n",
    "            \" AND \".join(\n",
    "                list(map(lambda x: f\"(source.{x} == target.{x})\", key_columns))\n",
    "            ),\n",
    "        )\n",
    "        .whenNotMatchedInsertAll()\n",
    "        .execute()\n",
    "    )\n",
    "\n",
    "\n",
    "create_or_update_silver()"
   ]
  },
  {
   "cell_type": "code",
   "execution_count": 8,
   "id": "01913fc8-02a1-4ced-9392-7599e38c376e",
   "metadata": {},
   "outputs": [
    {
     "data": {
      "text/plain": [
       "168633"
      ]
     },
     "execution_count": 8,
     "metadata": {},
     "output_type": "execute_result"
    }
   ],
   "source": [
    "DeltaTable.forName(spark, silver_table).toDF().count()"
   ]
  },
  {
   "cell_type": "code",
   "execution_count": 9,
   "id": "f61c8ff7-a6b8-4098-9194-8ad68aec799e",
   "metadata": {},
   "outputs": [],
   "source": [
    "window = Window.partitionBy(F.col(\"institucion\"))\n",
    "silver_sdf = (\n",
    "    spark.read.format(\"delta\")\n",
    "    .load(f'spark-warehouse/{silver_location}')\n",
    "    .withColumn(\"actualizado\", F.max(F.col(\"fecha_actualizacion\")).over(window))\n",
    "    .where(\"fecha_actualizacion == actualizado\")\n",
    "    .drop(\"actualizado\")\n",
    ")"
   ]
  },
  {
   "cell_type": "code",
   "execution_count": 10,
   "id": "6f331274-3199-411e-b5c2-e85f2d3a23c2",
   "metadata": {},
   "outputs": [],
   "source": [
    "def create_overwrite_agg_by_institucion(silver_sdf):\n",
    "\n",
    "    def agg_silver_by_institucion(sdf, group_by):\n",
    "        return (\n",
    "            silver_sdf.groupBy(group_by)\n",
    "            .agg(\n",
    "                F.sum(F.col(\"salario\")).alias(\"salarios_totales\"),\n",
    "                F.sum(F.col(\"gasto\")).alias(\"gastos_totales\"),\n",
    "                F.countDistinct(F.col(\"cedula\")).alias(\"total_personas\"),\n",
    "            )\n",
    "            .withColumn(\n",
    "                \"salario_mas_gasto\", F.col(\"salarios_totales\") + F.col(\"gastos_totales\")\n",
    "            )\n",
    "        )\n",
    "\n",
    "    agg_silver_by_institucion(silver_sdf, \"institucion\").withColumn(\n",
    "        \"estado\", F.lit(\"TODOS\")\n",
    "    ).unionByName(\n",
    "        agg_silver_by_institucion(silver_sdf, [\"institucion\", \"estado\"])\n",
    "    ).write.format(\n",
    "        \"delta\"\n",
    "    ).mode(\n",
    "        \"overwrite\"\n",
    "    ).option(\n",
    "        \"overwriteSchema\", \"True\"\n",
    "    ).save(\n",
    "        agg_by_institucion\n",
    "    )\n",
    "\n",
    "\n",
    "create_overwrite_agg_by_institucion(silver_sdf)"
   ]
  },
  {
   "cell_type": "code",
   "execution_count": 11,
   "id": "f4e71ca1-6422-4fc7-a4a0-7e921f7bf307",
   "metadata": {},
   "outputs": [
    {
     "data": {
      "text/html": [
       "<div>\n",
       "<style scoped>\n",
       "    .dataframe tbody tr th:only-of-type {\n",
       "        vertical-align: middle;\n",
       "    }\n",
       "\n",
       "    .dataframe tbody tr th {\n",
       "        vertical-align: top;\n",
       "    }\n",
       "\n",
       "    .dataframe thead th {\n",
       "        text-align: right;\n",
       "    }\n",
       "</style>\n",
       "<table border=\"1\" class=\"dataframe\">\n",
       "  <thead>\n",
       "    <tr style=\"text-align: right;\">\n",
       "      <th></th>\n",
       "      <th>institucion</th>\n",
       "      <th>salarios_totales</th>\n",
       "      <th>gastos_totales</th>\n",
       "      <th>total_personas</th>\n",
       "      <th>salario_mas_gasto</th>\n",
       "      <th>estado</th>\n",
       "    </tr>\n",
       "  </thead>\n",
       "  <tbody>\n",
       "    <tr>\n",
       "      <th>0</th>\n",
       "      <td>CONTRALORIA GENERAL DE LA REPUBLICA</td>\n",
       "      <td>6.564859e+06</td>\n",
       "      <td>44000.0</td>\n",
       "      <td>3917</td>\n",
       "      <td>6.608859e+06</td>\n",
       "      <td>PERMANENTE</td>\n",
       "    </tr>\n",
       "    <tr>\n",
       "      <th>1</th>\n",
       "      <td>CONTRALORIA GENERAL DE LA REPUBLICA</td>\n",
       "      <td>5.242466e+05</td>\n",
       "      <td>800.0</td>\n",
       "      <td>492</td>\n",
       "      <td>5.250466e+05</td>\n",
       "      <td>EVENTUAL</td>\n",
       "    </tr>\n",
       "    <tr>\n",
       "      <th>2</th>\n",
       "      <td>FISCALÍA DE CUENTAS</td>\n",
       "      <td>1.859500e+05</td>\n",
       "      <td>8500.0</td>\n",
       "      <td>112</td>\n",
       "      <td>1.944500e+05</td>\n",
       "      <td>PERMANENTE</td>\n",
       "    </tr>\n",
       "    <tr>\n",
       "      <th>3</th>\n",
       "      <td>FISCALÍA DE CUENTAS</td>\n",
       "      <td>5.750000e+04</td>\n",
       "      <td>0.0</td>\n",
       "      <td>37</td>\n",
       "      <td>5.750000e+04</td>\n",
       "      <td>EVENTUAL</td>\n",
       "    </tr>\n",
       "    <tr>\n",
       "      <th>4</th>\n",
       "      <td>FISCALÍA GENERAL ELECTORAL</td>\n",
       "      <td>3.584950e+05</td>\n",
       "      <td>23500.0</td>\n",
       "      <td>213</td>\n",
       "      <td>3.819950e+05</td>\n",
       "      <td>PERMANENTE</td>\n",
       "    </tr>\n",
       "    <tr>\n",
       "      <th>...</th>\n",
       "      <td>...</td>\n",
       "      <td>...</td>\n",
       "      <td>...</td>\n",
       "      <td>...</td>\n",
       "      <td>...</td>\n",
       "      <td>...</td>\n",
       "    </tr>\n",
       "    <tr>\n",
       "      <th>177</th>\n",
       "      <td>MINISTERIO DE DESARROLLO SOCIAL</td>\n",
       "      <td>2.621678e+06</td>\n",
       "      <td>23200.0</td>\n",
       "      <td>2808</td>\n",
       "      <td>2.644878e+06</td>\n",
       "      <td>TODOS</td>\n",
       "    </tr>\n",
       "    <tr>\n",
       "      <th>178</th>\n",
       "      <td>MINISTERIO DE EDUCACION</td>\n",
       "      <td>1.022351e+08</td>\n",
       "      <td>21500.0</td>\n",
       "      <td>59961</td>\n",
       "      <td>1.022566e+08</td>\n",
       "      <td>TODOS</td>\n",
       "    </tr>\n",
       "    <tr>\n",
       "      <th>179</th>\n",
       "      <td>MINISTERIO DE SALUD</td>\n",
       "      <td>4.065927e+07</td>\n",
       "      <td>38000.0</td>\n",
       "      <td>20801</td>\n",
       "      <td>4.069727e+07</td>\n",
       "      <td>TODOS</td>\n",
       "    </tr>\n",
       "    <tr>\n",
       "      <th>180</th>\n",
       "      <td>PROCURADURÍA GENERAL DE LA NACIÓN</td>\n",
       "      <td>1.217174e+07</td>\n",
       "      <td>701750.0</td>\n",
       "      <td>7111</td>\n",
       "      <td>1.287349e+07</td>\n",
       "      <td>TODOS</td>\n",
       "    </tr>\n",
       "    <tr>\n",
       "      <th>181</th>\n",
       "      <td>TRIBUNAL ADMINISTRATIVO TRIBUTARIO</td>\n",
       "      <td>1.450100e+05</td>\n",
       "      <td>11500.0</td>\n",
       "      <td>89</td>\n",
       "      <td>1.565100e+05</td>\n",
       "      <td>TODOS</td>\n",
       "    </tr>\n",
       "  </tbody>\n",
       "</table>\n",
       "<p>182 rows × 6 columns</p>\n",
       "</div>"
      ],
      "text/plain": [
       "                             institucion  salarios_totales  gastos_totales  \\\n",
       "0    CONTRALORIA GENERAL DE LA REPUBLICA      6.564859e+06         44000.0   \n",
       "1    CONTRALORIA GENERAL DE LA REPUBLICA      5.242466e+05           800.0   \n",
       "2                    FISCALÍA DE CUENTAS      1.859500e+05          8500.0   \n",
       "3                    FISCALÍA DE CUENTAS      5.750000e+04             0.0   \n",
       "4             FISCALÍA GENERAL ELECTORAL      3.584950e+05         23500.0   \n",
       "..                                   ...               ...             ...   \n",
       "177      MINISTERIO DE DESARROLLO SOCIAL      2.621678e+06         23200.0   \n",
       "178              MINISTERIO DE EDUCACION      1.022351e+08         21500.0   \n",
       "179                  MINISTERIO DE SALUD      4.065927e+07         38000.0   \n",
       "180    PROCURADURÍA GENERAL DE LA NACIÓN      1.217174e+07        701750.0   \n",
       "181   TRIBUNAL ADMINISTRATIVO TRIBUTARIO      1.450100e+05         11500.0   \n",
       "\n",
       "     total_personas  salario_mas_gasto      estado  \n",
       "0              3917       6.608859e+06  PERMANENTE  \n",
       "1               492       5.250466e+05    EVENTUAL  \n",
       "2               112       1.944500e+05  PERMANENTE  \n",
       "3                37       5.750000e+04    EVENTUAL  \n",
       "4               213       3.819950e+05  PERMANENTE  \n",
       "..              ...                ...         ...  \n",
       "177            2808       2.644878e+06       TODOS  \n",
       "178           59961       1.022566e+08       TODOS  \n",
       "179           20801       4.069727e+07       TODOS  \n",
       "180            7111       1.287349e+07       TODOS  \n",
       "181              89       1.565100e+05       TODOS  \n",
       "\n",
       "[182 rows x 6 columns]"
      ]
     },
     "execution_count": 11,
     "metadata": {},
     "output_type": "execute_result"
    }
   ],
   "source": [
    "spark.read.load(agg_by_institucion).toPandas()"
   ]
  },
  {
   "cell_type": "code",
   "execution_count": 12,
   "id": "6174e2d8-4a3a-4429-a05e-5a003b946e29",
   "metadata": {},
   "outputs": [
    {
     "name": "stderr",
     "output_type": "stream",
     "text": [
      "                                                                                \r"
     ]
    }
   ],
   "source": [
    "def latest_report_agg_by_id(silver_sdf):\n",
    "\n",
    "    agg_by_cedula = (\n",
    "        silver_sdf.select(\n",
    "            \"*\",\n",
    "            F.to_json(\n",
    "                F.struct(\n",
    "                    F.col(\"institucion\"),\n",
    "                    F.col(\"estado\"),\n",
    "                    F.col(\"fecha_de_inicio\"),\n",
    "                    F.col(\"salario\"),\n",
    "                    F.col(\"gasto\"),\n",
    "                    F.col(\"fecha_consulta\"),\n",
    "                )\n",
    "            ).alias(\"detalle\"),\n",
    "        )\n",
    "        .withColumn(\n",
    "            \"id_trabajo\",\n",
    "            F.concat(\n",
    "                F.col(\"institucion\"),\n",
    "                F.col(\"estado\"),\n",
    "                F.col(\"fecha_de_inicio\"),\n",
    "                F.col(\"salario\"),\n",
    "            ),\n",
    "        )\n",
    "        .groupBy(\"cedula\")\n",
    "        .agg(\n",
    "            F.countDistinct(\"id_trabajo\").alias(\"trabajos\"),\n",
    "            F.countDistinct(\"institucion\").alias(\"cantidad_de_instituciones\"),\n",
    "            F.sum(F.col(\"salario\")).alias(\"salario_total\"),\n",
    "            F.sum(F.col(\"gasto\")).alias(\"gastos_totales\"),\n",
    "            F.min(\"fecha_de_inicio\").alias(\"fecha_primer_trabajo_activo\"),\n",
    "            F.max(\"fecha_de_inicio\").alias(\"fecha_ultimo_trabajo_activo\"),\n",
    "            F.max(\"fecha_actualizacion\").alias(\"fecha_actualizacion\"),\n",
    "            F.collect_list(F.struct(F.col(\"detalle\"))).alias(\"detalle\"),\n",
    "        )\n",
    "        .withColumn(\n",
    "            \"salario_mas_gasto\", F.col(\"salario_total\") + F.col(\"gastos_totales\")\n",
    "        )\n",
    "        .write.format(\"delta\")\n",
    "        .mode(\"overwrite\")\n",
    "        .option(\"overwriteSchema\", \"True\")\n",
    "        .save(agg_by_id)\n",
    "    )\n",
    "\n",
    "\n",
    "latest_report_agg_by_id(silver_sdf)"
   ]
  }
 ],
 "metadata": {
  "kernelspec": {
   "display_name": "Python 3 (ipykernel)",
   "language": "python",
   "name": "python3"
  },
  "language_info": {
   "codemirror_mode": {
    "name": "ipython",
    "version": 3
   },
   "file_extension": ".py",
   "mimetype": "text/x-python",
   "name": "python",
   "nbconvert_exporter": "python",
   "pygments_lexer": "ipython3",
   "version": "3.10.12"
  }
 },
 "nbformat": 4,
 "nbformat_minor": 5
}
